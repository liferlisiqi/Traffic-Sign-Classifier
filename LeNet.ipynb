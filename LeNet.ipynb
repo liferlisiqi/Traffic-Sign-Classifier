{
 "cells": [
  {
   "cell_type": "code",
   "execution_count": 1,
   "metadata": {},
   "outputs": [
    {
     "name": "stdout",
     "output_type": "stream",
     "text": [
      "All modules imported.\n"
     ]
    }
   ],
   "source": [
    "import os\n",
    "import pickle\n",
    "import math\n",
    "import random\n",
    "import csv\n",
    "from PIL import Image\n",
    "\n",
    "import matplotlib.pyplot as plt\n",
    "import cv2\n",
    "import numpy as np\n",
    "import tensorflow as tf\n",
    "from sklearn.utils import shuffle\n",
    "from tensorflow.contrib.layers import flatten\n",
    "\n",
    "print('All modules imported.')"
   ]
  },
  {
   "cell_type": "markdown",
   "metadata": {},
   "source": [
    "# 1 Reload the preprocessed data"
   ]
  },
  {
   "cell_type": "code",
   "execution_count": 2,
   "metadata": {},
   "outputs": [
    {
     "name": "stdout",
     "output_type": "stream",
     "text": [
      "(34799, 32, 32, 3) (34799,)\n",
      "(4410, 32, 32, 3) (4410,)\n",
      "(12630, 32, 32, 3) (12630,)\n",
      "43\n",
      "Data loaded.\n"
     ]
    }
   ],
   "source": [
    "# 1 Reload the preprocessed data\n",
    "\n",
    "pickle_file = './pre-traffic-signs-data/pre-data.pickle'\n",
    "with open(pickle_file, 'rb') as f:\n",
    "    pickle_data = pickle.load(f)\n",
    "    X_train = pickle_data['train_features']\n",
    "    y_train = pickle_data['train_labels']\n",
    "    X_valid = pickle_data['valid_features']\n",
    "    y_valid = pickle_data['valid_labels']\n",
    "    X_test = pickle_data['test_features']\n",
    "    y_test = pickle_data['test_labels']\n",
    "    signnames = pickle_data['signnames']\n",
    "    del pickle_data  # Free up memory\n",
    "    \n",
    "# Shuffle the data set\n",
    "X_train, y_train = shuffle(X_train, y_train)\n",
    "X_valid, y_valid = shuffle(X_valid, y_valid)\n",
    "X_test, y_test = shuffle(X_test, y_test)\n",
    "\n",
    "print(X_train.shape, y_train.shape)\n",
    "print(X_valid.shape, y_valid.shape)\n",
    "print(X_test.shape, y_test.shape)\n",
    "print(len(signnames))\n",
    "print('Data loaded.')"
   ]
  },
  {
   "cell_type": "markdown",
   "metadata": {},
   "source": [
    "# 2 LeNet Architecture"
   ]
  },
  {
   "cell_type": "code",
   "execution_count": 3,
   "metadata": {},
   "outputs": [],
   "source": [
    "def LeNet(x, KEEP_PROB):\n",
    "    # Arguments used for tf.truncated_normal, randomly defines variables for the weights and biases for each layer\n",
    "    mu = 0\n",
    "    sigma = 0.1\n",
    "    \n",
    "    # Layer 1: Input = 32x32x3. Output = 28x28x6.\n",
    "    # Convolutional. \n",
    "    conv1_w = tf.Variable(tf.truncated_normal((5, 5, 3, 6), mu, sigma))\n",
    "    conv1_b = tf.Variable(tf.zeros(6))\n",
    "    conv1 = tf.nn.conv2d(x, conv1_w, [1, 1, 1, 1], 'VALID') + conv1_b\n",
    "    # Activation.\n",
    "    conv1 = tf.nn.relu(conv1)\n",
    "    # Pooling. Input = 28x28x6. Output = 14x14x6.\n",
    "    pool1 = tf.nn.max_pool(conv1, [1, 2, 2, 1], [1, 2, 2, 1], 'VALID')\n",
    "       \n",
    "    # Layer 2: Input = 14x14x6. Output = 10x10x16.\n",
    "    # Convolutional. \n",
    "    conv2_w = tf.Variable(tf.truncated_normal((5, 5, 6, 16), mu, sigma))\n",
    "    conv2_b = tf.Variable(tf.zeros(16))\n",
    "    conv2 = tf.nn.conv2d(pool1, conv2_w, [1, 1, 1, 1], 'VALID') + conv2_b\n",
    "    # Activation.\n",
    "    conv2 = tf.nn.relu(conv2)\n",
    "    # Pooling. Input = 10x10x16. Output = 5x5x16.\n",
    "    pool2 = tf.nn.max_pool(conv2, [1, 2, 2, 1], [1, 2, 2, 1], 'VALID')\n",
    "      \n",
    "    # Flatten. Input = 5x5x16. Output = 400.\n",
    "    flat = flatten(pool2)   \n",
    "    \n",
    "    # Layer 3: Input = 400. Output = 120.\n",
    "    # Fully Connected. \n",
    "    full1_w = tf.Variable(tf.truncated_normal((400, 120), mu, sigma))\n",
    "    full1_b = tf.Variable(tf.zeros(120))\n",
    "    full1 = tf.matmul(flat, full1_w) + full1_b\n",
    "    # Activation.\n",
    "    full1 = tf.nn.relu(full1) \n",
    "    # Dropout\n",
    "    full1 = tf.nn.dropout(full1, KEEP_PROB)\n",
    "    \n",
    "    # Layer 4: Input = 120. Output = 84.\n",
    "    # Fully Connected. \n",
    "    full2_w = tf.Variable(tf.truncated_normal((120, 84), mu, sigma))\n",
    "    full2_b = tf.Variable(tf.zeros(84))\n",
    "    full2 = tf.matmul(full1, full2_w) + full2_b\n",
    "    # Activation.\n",
    "    full2 = tf.nn.relu(full2)\n",
    "    # Dropout\n",
    "    full2 = tf.nn.dropout(full2, KEEP_PROB)\n",
    "    \n",
    "    # Layer 5: Fully Connected. Input = 84. Output = 43.\n",
    "    full3_w = tf.Variable(tf.truncated_normal((84, 43), mu, sigma))\n",
    "    full3_b = tf.Variable(tf.zeros(43))\n",
    "    logits = tf.matmul(full2, full3_w) + full3_b\n",
    "    \n",
    "    return logits"
   ]
  },
  {
   "cell_type": "markdown",
   "metadata": {},
   "source": [
    "# 3 Training"
   ]
  },
  {
   "cell_type": "markdown",
   "metadata": {},
   "source": [
    "## 3.1 Strategy"
   ]
  },
  {
   "cell_type": "code",
   "execution_count": 7,
   "metadata": {},
   "outputs": [],
   "source": [
    "# Placeholder\n",
    "x = tf.placeholder(tf.float32, (None, 32, 32, 3))\n",
    "y = tf.placeholder(tf.int32, (None))\n",
    "one_hot_y = tf.one_hot(y, 43)\n",
    "keep_prob = tf.placeholder_with_default(1.0, shape=())\n",
    "\n",
    "# Hyperparameters\n",
    "LEARNING_RATE = 1e-2\n",
    "EPOCHS = 50\n",
    "BATCH_SIZE = 128\n",
    "\n",
    "# Train method\n",
    "logits = LeNet(x, keep_prob)\n",
    "cross_entropy = tf.nn.softmax_cross_entropy_with_logits(labels=one_hot_y, logits=logits)\n",
    "loss_operation = tf.reduce_mean(cross_entropy)\n",
    "optimizer = tf.train.GradientDescentOptimizer(learning_rate = LEARNING_RATE)\n",
    "training_operation = optimizer.minimize(loss_operation)"
   ]
  },
  {
   "cell_type": "markdown",
   "metadata": {},
   "source": [
    "## 3.2 Evaluation"
   ]
  },
  {
   "cell_type": "code",
   "execution_count": 8,
   "metadata": {},
   "outputs": [],
   "source": [
    "correct_prediction = tf.equal(tf.argmax(logits, 1), tf.argmax(one_hot_y, 1))\n",
    "accuracy_operation = tf.reduce_mean(tf.cast(correct_prediction, tf.float32))\n",
    "\n",
    "def evaluate(X_data, y_data):\n",
    "    num_examples = len(X_data)\n",
    "    total_accuracy = 0\n",
    "    sess = tf.get_default_session()\n",
    "    for offset in range(0, num_examples, BATCH_SIZE):\n",
    "        batch_x, batch_y = X_data[offset:offset + BATCH_SIZE], y_data[offset:offset + BATCH_SIZE]\n",
    "        accuracy, loss = sess.run([accuracy_operation, loss_operation], feed_dict={x: batch_x, y: batch_y})\n",
    "        total_accuracy += (accuracy * len(batch_x))\n",
    "    return total_accuracy / num_examples, loss"
   ]
  },
  {
   "cell_type": "markdown",
   "metadata": {},
   "source": [
    "## 3.3 Train the Model\n",
    "A validation set can be used to assess how well the model is performing. A low accuracy on the training and validation sets imply underfitting. A high accuracy on the training set but low accuracy on the validation set implies overfitting. The optimizer used is mini-batch gradient descent, each select a sub batch of all the training data."
   ]
  },
  {
   "cell_type": "code",
   "execution_count": 9,
   "metadata": {
    "scrolled": false
   },
   "outputs": [
    {
     "name": "stdout",
     "output_type": "stream",
     "text": [
      "Training...\n",
      "EPOCH 1 : Validation Accuracy = 0.084\n",
      "EPOCH 2 : Validation Accuracy = 0.172\n",
      "EPOCH 3 : Validation Accuracy = 0.255\n",
      "EPOCH 4 : Validation Accuracy = 0.315\n",
      "EPOCH 5 : Validation Accuracy = 0.357\n",
      "EPOCH 6 : Validation Accuracy = 0.392\n",
      "EPOCH 7 : Validation Accuracy = 0.426\n",
      "EPOCH 8 : Validation Accuracy = 0.452\n",
      "EPOCH 9 : Validation Accuracy = 0.463\n",
      "EPOCH 10 : Validation Accuracy = 0.487\n",
      "EPOCH 11 : Validation Accuracy = 0.515\n",
      "EPOCH 12 : Validation Accuracy = 0.542\n",
      "EPOCH 13 : Validation Accuracy = 0.564\n",
      "EPOCH 14 : Validation Accuracy = 0.590\n",
      "EPOCH 15 : Validation Accuracy = 0.602\n",
      "EPOCH 16 : Validation Accuracy = 0.644\n",
      "EPOCH 17 : Validation Accuracy = 0.658\n",
      "EPOCH 18 : Validation Accuracy = 0.675\n",
      "EPOCH 19 : Validation Accuracy = 0.713\n",
      "EPOCH 20 : Validation Accuracy = 0.720\n",
      "EPOCH 21 : Validation Accuracy = 0.746\n",
      "EPOCH 22 : Validation Accuracy = 0.740\n",
      "EPOCH 23 : Validation Accuracy = 0.767\n",
      "EPOCH 24 : Validation Accuracy = 0.771\n",
      "EPOCH 25 : Validation Accuracy = 0.793\n",
      "EPOCH 26 : Validation Accuracy = 0.798\n",
      "EPOCH 27 : Validation Accuracy = 0.809\n",
      "EPOCH 28 : Validation Accuracy = 0.822\n",
      "EPOCH 29 : Validation Accuracy = 0.829\n",
      "EPOCH 30 : Validation Accuracy = 0.836\n",
      "EPOCH 31 : Validation Accuracy = 0.841\n",
      "EPOCH 32 : Validation Accuracy = 0.848\n",
      "EPOCH 33 : Validation Accuracy = 0.840\n",
      "EPOCH 34 : Validation Accuracy = 0.854\n",
      "EPOCH 35 : Validation Accuracy = 0.865\n",
      "EPOCH 36 : Validation Accuracy = 0.873\n",
      "EPOCH 37 : Validation Accuracy = 0.874\n",
      "EPOCH 38 : Validation Accuracy = 0.871\n",
      "EPOCH 39 : Validation Accuracy = 0.877\n",
      "EPOCH 40 : Validation Accuracy = 0.877\n",
      "EPOCH 41 : Validation Accuracy = 0.881\n",
      "EPOCH 42 : Validation Accuracy = 0.887\n",
      "EPOCH 43 : Validation Accuracy = 0.889\n",
      "EPOCH 44 : Validation Accuracy = 0.894\n",
      "EPOCH 45 : Validation Accuracy = 0.894\n",
      "EPOCH 46 : Validation Accuracy = 0.898\n",
      "EPOCH 47 : Validation Accuracy = 0.900\n",
      "EPOCH 48 : Validation Accuracy = 0.905\n",
      "EPOCH 49 : Validation Accuracy = 0.896\n",
      "EPOCH 50 : Validation Accuracy = 0.901\n",
      "Model saved\n"
     ]
    },
    {
     "data": {
      "image/png": "[encoded data removed]",
      "text/plain": [
       "<matplotlib.figure.Figure at 0x7fead3798978>"
      ]
     },
     "metadata": {},
     "output_type": "display_data"
    },
    {
     "name": "stdout",
     "output_type": "stream",
     "text": [
      "CPU times: user 2min 40s, sys: 21 s, total: 3min 1s\n",
      "Wall time: 3min 21s\n"
     ]
    }
   ],
   "source": [
    "%%time\n",
    "# 2min 7s\n",
    "train_losses = []\n",
    "valid_losses = []\n",
    "saver = tf.train.Saver()\n",
    "with tf.Session() as sess:\n",
    "    sess.run(tf.global_variables_initializer())\n",
    "    num_examples = len(X_train)\n",
    "\n",
    "    print(\"Training...\")\n",
    "    for i in range(EPOCHS):\n",
    "        X_train, y_train = shuffle(X_train, y_train)\n",
    "        print(\"EPOCH {} :\".format(i+1), end=' ')\n",
    "        for offset in range(0, num_examples, BATCH_SIZE):\n",
    "            end = offset + BATCH_SIZE\n",
    "            batch_x, batch_y = X_train[offset:end], y_train[offset:end]\n",
    "            _, train_loss = sess.run([training_operation, loss_operation], feed_dict={x: batch_x, y: batch_y, keep_prob: 0.5})\n",
    "            train_losses.append(train_loss)\n",
    "        validation_accuracy, valid_loss = evaluate(X_valid, y_valid)\n",
    "        print(\"Validation Accuracy = {:.3f}\".format(validation_accuracy))\n",
    "        valid_losses.append(valid_loss)\n",
    "                \n",
    "    saver.save(sess, './model/lenet.ckpt')\n",
    "    print(\"Model saved\")\n",
    "    \n",
    "plt.subplot(2, 1, 2)\n",
    "plt.plot(train_losses, label='train')\n",
    "plt.plot([(i+1) * int(num_examples / BATCH_SIZE) for i in range(EPOCHS)], valid_losses, label='val')\n",
    "plt.title('training and validation loss history')\n",
    "plt.xlabel('Epoch')\n",
    "plt.ylabel('Loss')\n",
    "plt.gcf().set_size_inches(15, 12)\n",
    "plt.legend()\n",
    "plt.show()"
   ]
  },
  {
   "cell_type": "markdown",
   "metadata": {},
   "source": [
    "# 4 Testing"
   ]
  },
  {
   "cell_type": "markdown",
   "metadata": {},
   "source": [
    "## 4.1 Test the model on testing dataset"
   ]
  },
  {
   "cell_type": "code",
   "execution_count": 12,
   "metadata": {},
   "outputs": [
    {
     "name": "stdout",
     "output_type": "stream",
     "text": [
      "INFO:tensorflow:Restoring parameters from ./model/lenet.ckpt\n"
     ]
    },
    {
     "data": {
      "image/png": "[encoded data removed]",
      "text/plain": [
       "<matplotlib.figure.Figure at 0x7efea2c21b38>"
      ]
     },
     "metadata": {},
     "output_type": "display_data"
    }
   ],
   "source": [
    "with tf.Session() as sess:\n",
    "    saver.restore(sess, './model/lenet.ckpt')\n",
    "    train_accuracy,_ = evaluate(X_train, y_train)\n",
    "    valid_accuracy,_ = evaluate(X_valid, y_valid)\n",
    "    test_accuracy,_ = evaluate(X_test, y_test)\n",
    "    \n",
    "accuracys = [train_accuracy, valid_accuracy, test_accuracy]\n",
    "tick_labels = [\"training set\", \"validation set\", \"testing set\"]\n",
    "plt.bar(range(3), accuracys)\n",
    "plt.xlabel('data set')\n",
    "plt.ylabel('accuracy')\n",
    "plt.xticks(range(3), tick_labels)\n",
    "for x_,y_ in zip(range(3), accuracys):\n",
    "    plt.text(x_ - 0.1, y_, '%.3f'%y_)\n",
    "plt.show()"
   ]
  }
 ],
 "metadata": {
  "kernelspec": {
   "display_name": "Python 3",
   "language": "python",
   "name": "python3"
  },
  "language_info": {
   "codemirror_mode": {
    "name": "ipython",
    "version": 3
   },
   "file_extension": ".py",
   "mimetype": "text/x-python",
   "name": "python",
   "nbconvert_exporter": "python",
   "pygments_lexer": "ipython3",
   "version": "3.5.2"
  }
 },
 "nbformat": 4,
 "nbformat_minor": 2
}
